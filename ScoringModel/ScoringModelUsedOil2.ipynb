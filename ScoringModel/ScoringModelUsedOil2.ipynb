{
  "nbformat": 4,
  "nbformat_minor": 0,
  "metadata": {
    "colab": {
      "provenance": []
    },
    "kernelspec": {
      "name": "python3",
      "display_name": "Python 3"
    },
    "language_info": {
      "name": "python"
    }
  },
  "cells": [
    {
      "cell_type": "markdown",
      "source": [
        "#**Aim**\n",
        "The aim of the following program is to develop a scoring model for used oil suppliers across the nation. Scores are provided to suppliers based on different parameters (distance, quantity of used oil transported etc) serves two purposes:\n",
        "1. To judge the feasibility of bringing used oil to the recyclers (in this case IFP Petro)\n",
        "2. To prioritize different suppliers based on the parameters of the supplied oil - to be used in the web application developed to digitalize used oil supply to the recyclers\n",
        "3. To get a sense of whether the price offered by the recyclers to the suppliers is in the correct range - according to the quantity, transportation charges to bring the oil to the recycler etc.\n",
        "---\n",
        "\n",
        "#**Dataset**\n",
        "The dataset is a .csv file with the parameters - 'True Quantity' and 'Rate per litre' provided for each address of the supplier.\n",
        "\n",
        "- First, using Google Maps API (through functions written in Google App Script) the distances for all the locations of suppliers and the central location of the recycler (here, IFp Petro)\n",
        "- Second, upload the .csv file in the Google Colab File Section\n",
        "---\n",
        "#**Approach**\n"
      ],
      "metadata": {
        "id": "2lWFsuFXcVje"
      }
    },
    {
      "cell_type": "markdown",
      "source": [
        "##**Importing necassary libraries**"
      ],
      "metadata": {
        "id": "BwHWxIEYNgOA"
      }
    },
    {
      "cell_type": "code",
      "source": [
        "import numpy as np\n",
        "import matplotlib.pyplot as plt\n",
        "import pandas as pd\n",
        "from mpl_toolkits.mplot3d import Axes3D\n",
        "from sklearn.cluster import MiniBatchKMeans\n",
        "from scipy import optimize"
      ],
      "metadata": {
        "id": "4bB323zFQidh"
      },
      "execution_count": null,
      "outputs": []
    },
    {
      "cell_type": "markdown",
      "source": [
        "##**Functions to clean up the dataset**\n",
        "The following are some function to 'clean up' the datasets.\n",
        "1. `remove_outliers(df,columns,n_std)` : It removes the 'outliers' in the data (which are very very few) i.e. data-points which are n_std (n standard deviations) away from the mean, are removed - to get better clustering of data. In this case, the value of n_std is chosen to be 3\n",
        "\n",
        "2. `plot_dataframe(df, color_map, numclusters)` : It plots (scatter plot) the entire dataframe\n",
        "  - Distance along x axis\n",
        "  - Quantity of used oil along y axis \n",
        "  - Rate of oil along z axis\n",
        "---"
      ],
      "metadata": {
        "id": "AJfMoQrPTN87"
      }
    },
    {
      "cell_type": "code",
      "source": [
        "def remove_outliers(df,columns,n_std):\n",
        "    for col in columns:\n",
        "      if col == \"Item\":\n",
        "        continue\n",
        "      else:\n",
        "        print('Removing outliers in column: {}'.format(col))\n",
        "        \n",
        "        mean = df[col].mean()\n",
        "        sd = df[col].std()\n",
        "        \n",
        "        df = df[(df[col] <= mean+(n_std*sd))]\n",
        "        \n",
        "    return df\n",
        "def plot_dataframe(df, color_map, numclusters):\n",
        "    '''Plotting the Clusters'''\n",
        "    fig = plt.figure(figsize=(10, 10))\n",
        "    ax = plt.axes(projection='3d')\n",
        "    ax.scatter3D(df['Distance'],df['True Quantity'], df['Rate per litre'], c= color_map)\n",
        "    plt.xlabel('Distance (Normalized)')\n",
        "    plt.ylabel('True Quantity (Normalized)')\n",
        "    ax.set_zlabel(r'Rate per Litre (Normalized)', labelpad=30)\n",
        "    plt.savefig(\"usedOilDataset_clusters\"+str(numclusters)+\".png\")"
      ],
      "metadata": {
        "id": "TesxfyUjTQU2"
      },
      "execution_count": null,
      "outputs": []
    },
    {
      "cell_type": "markdown",
      "source": [
        "##**Reading the file and cleaning up the dataset**\n",
        "1. The data is read from the .csv file into the Pandas dataframe\n",
        "  - Rows in which some value is NaN are removed\n",
        "  - Rows in which there are no results for the given supplier address (which shows 'ZERO_RESULTS' or 'Error: NOT_FOUND' in the Distance column)\n",
        "2. Outliers are removed\n",
        "3. Since the values of distances are generally a magnitude larger than the values of used oil quantity, all the values are normalized \n",
        "\n",
        "$$\n",
        "x_{norm} = \\frac{x - \\bar{x}}{\\sigma_x}\n",
        "$$\n",
        "\n",
        "$\\bar{x}$ - mean of x and $\\sigma_x$ - standard deviation of x\n",
        "4. Prints the dataframe\n",
        "---"
      ],
      "metadata": {
        "id": "HvLng7jng5D1"
      }
    },
    {
      "cell_type": "code",
      "source": [
        "df = pd.read_csv('usedOilDataset.csv')\n",
        "cols = ['True Quantity','Distance', 'Rate per litre']\n",
        "df = df[cols]\n",
        "\n",
        "\n",
        "'''Formatting the csv data to extract relevant information into the dataframe'''\n",
        "# get names of indexes for which address cannot be found by google maps API or gave multiple results on Google Maps\n",
        "index_names = df[ (df['Distance'] == 'Error: ZERO_RESULTS') | (df['Distance'] == 'Error: NOT_FOUND') ].index\n",
        "# drop these row indexes from dataFrame\n",
        "df.drop(index_names, inplace = True)\n",
        "# drop rows in dataframe which have value as NaN\n",
        "df.dropna(subset=['Distance'], inplace=True) \n",
        "# To reset the indices\n",
        "df = df.reset_index(drop = True)\n",
        "# converting each value of column to a string\n",
        "df[cols] = df[cols].apply(pd.to_numeric, errors='coerce', axis=1)\n",
        "\n",
        "'''Remove the outliers'''\n",
        "df = remove_outliers(df,cols,3)\n",
        "\n",
        "df_true = df[cols]\n",
        "\n",
        "'''Normalizing the dataset'''\n",
        "for col in df.columns:\n",
        "  if col == \"Item\":\n",
        "    continue\n",
        "  else:\n",
        "    df[col] = (df[col] - df[col].mean())/df[col].std()\n",
        "df"
      ],
      "metadata": {
        "id": "uPaJPyj8UiEU",
        "colab": {
          "base_uri": "https://localhost:8080/",
          "height": 476
        },
        "outputId": "f75a8507-20c1-4841-d7dc-1f470d266a39"
      },
      "execution_count": null,
      "outputs": [
        {
          "output_type": "stream",
          "name": "stdout",
          "text": [
            "Removing outliers in column: True Quantity\n",
            "Removing outliers in column: Distance\n",
            "Removing outliers in column: Rate per litre\n"
          ]
        },
        {
          "output_type": "execute_result",
          "data": {
            "text/plain": [
              "     True Quantity  Distance  Rate per litre\n",
              "1         2.158066  3.203840        1.463293\n",
              "2        -0.539734 -0.402653        0.197182\n",
              "4        -0.539734 -0.389911        0.093381\n",
              "5        -0.539734 -0.431181        0.085693\n",
              "6        -0.539734 -0.446448        0.074159\n",
              "..             ...       ...             ...\n",
              "958      -0.205829 -0.275692       -2.185107\n",
              "959      -0.205829 -0.368315       -2.185107\n",
              "960      -0.497996 -0.402653       -0.567867\n",
              "961      -0.497996 -0.395404       -0.605030\n",
              "962      -0.539734 -0.402653        0.197182\n",
              "\n",
              "[927 rows x 3 columns]"
            ],
            "text/html": [
              "\n",
              "  <div id=\"df-a494ccbf-1fc7-403b-8bd9-40f4fb9fe957\">\n",
              "    <div class=\"colab-df-container\">\n",
              "      <div>\n",
              "<style scoped>\n",
              "    .dataframe tbody tr th:only-of-type {\n",
              "        vertical-align: middle;\n",
              "    }\n",
              "\n",
              "    .dataframe tbody tr th {\n",
              "        vertical-align: top;\n",
              "    }\n",
              "\n",
              "    .dataframe thead th {\n",
              "        text-align: right;\n",
              "    }\n",
              "</style>\n",
              "<table border=\"1\" class=\"dataframe\">\n",
              "  <thead>\n",
              "    <tr style=\"text-align: right;\">\n",
              "      <th></th>\n",
              "      <th>True Quantity</th>\n",
              "      <th>Distance</th>\n",
              "      <th>Rate per litre</th>\n",
              "    </tr>\n",
              "  </thead>\n",
              "  <tbody>\n",
              "    <tr>\n",
              "      <th>1</th>\n",
              "      <td>2.158066</td>\n",
              "      <td>3.203840</td>\n",
              "      <td>1.463293</td>\n",
              "    </tr>\n",
              "    <tr>\n",
              "      <th>2</th>\n",
              "      <td>-0.539734</td>\n",
              "      <td>-0.402653</td>\n",
              "      <td>0.197182</td>\n",
              "    </tr>\n",
              "    <tr>\n",
              "      <th>4</th>\n",
              "      <td>-0.539734</td>\n",
              "      <td>-0.389911</td>\n",
              "      <td>0.093381</td>\n",
              "    </tr>\n",
              "    <tr>\n",
              "      <th>5</th>\n",
              "      <td>-0.539734</td>\n",
              "      <td>-0.431181</td>\n",
              "      <td>0.085693</td>\n",
              "    </tr>\n",
              "    <tr>\n",
              "      <th>6</th>\n",
              "      <td>-0.539734</td>\n",
              "      <td>-0.446448</td>\n",
              "      <td>0.074159</td>\n",
              "    </tr>\n",
              "    <tr>\n",
              "      <th>...</th>\n",
              "      <td>...</td>\n",
              "      <td>...</td>\n",
              "      <td>...</td>\n",
              "    </tr>\n",
              "    <tr>\n",
              "      <th>958</th>\n",
              "      <td>-0.205829</td>\n",
              "      <td>-0.275692</td>\n",
              "      <td>-2.185107</td>\n",
              "    </tr>\n",
              "    <tr>\n",
              "      <th>959</th>\n",
              "      <td>-0.205829</td>\n",
              "      <td>-0.368315</td>\n",
              "      <td>-2.185107</td>\n",
              "    </tr>\n",
              "    <tr>\n",
              "      <th>960</th>\n",
              "      <td>-0.497996</td>\n",
              "      <td>-0.402653</td>\n",
              "      <td>-0.567867</td>\n",
              "    </tr>\n",
              "    <tr>\n",
              "      <th>961</th>\n",
              "      <td>-0.497996</td>\n",
              "      <td>-0.395404</td>\n",
              "      <td>-0.605030</td>\n",
              "    </tr>\n",
              "    <tr>\n",
              "      <th>962</th>\n",
              "      <td>-0.539734</td>\n",
              "      <td>-0.402653</td>\n",
              "      <td>0.197182</td>\n",
              "    </tr>\n",
              "  </tbody>\n",
              "</table>\n",
              "<p>927 rows × 3 columns</p>\n",
              "</div>\n",
              "      <button class=\"colab-df-convert\" onclick=\"convertToInteractive('df-a494ccbf-1fc7-403b-8bd9-40f4fb9fe957')\"\n",
              "              title=\"Convert this dataframe to an interactive table.\"\n",
              "              style=\"display:none;\">\n",
              "        \n",
              "  <svg xmlns=\"http://www.w3.org/2000/svg\" height=\"24px\"viewBox=\"0 0 24 24\"\n",
              "       width=\"24px\">\n",
              "    <path d=\"M0 0h24v24H0V0z\" fill=\"none\"/>\n",
              "    <path d=\"M18.56 5.44l.94 2.06.94-2.06 2.06-.94-2.06-.94-.94-2.06-.94 2.06-2.06.94zm-11 1L8.5 8.5l.94-2.06 2.06-.94-2.06-.94L8.5 2.5l-.94 2.06-2.06.94zm10 10l.94 2.06.94-2.06 2.06-.94-2.06-.94-.94-2.06-.94 2.06-2.06.94z\"/><path d=\"M17.41 7.96l-1.37-1.37c-.4-.4-.92-.59-1.43-.59-.52 0-1.04.2-1.43.59L10.3 9.45l-7.72 7.72c-.78.78-.78 2.05 0 2.83L4 21.41c.39.39.9.59 1.41.59.51 0 1.02-.2 1.41-.59l7.78-7.78 2.81-2.81c.8-.78.8-2.07 0-2.86zM5.41 20L4 18.59l7.72-7.72 1.47 1.35L5.41 20z\"/>\n",
              "  </svg>\n",
              "      </button>\n",
              "      \n",
              "  <style>\n",
              "    .colab-df-container {\n",
              "      display:flex;\n",
              "      flex-wrap:wrap;\n",
              "      gap: 12px;\n",
              "    }\n",
              "\n",
              "    .colab-df-convert {\n",
              "      background-color: #E8F0FE;\n",
              "      border: none;\n",
              "      border-radius: 50%;\n",
              "      cursor: pointer;\n",
              "      display: none;\n",
              "      fill: #1967D2;\n",
              "      height: 32px;\n",
              "      padding: 0 0 0 0;\n",
              "      width: 32px;\n",
              "    }\n",
              "\n",
              "    .colab-df-convert:hover {\n",
              "      background-color: #E2EBFA;\n",
              "      box-shadow: 0px 1px 2px rgba(60, 64, 67, 0.3), 0px 1px 3px 1px rgba(60, 64, 67, 0.15);\n",
              "      fill: #174EA6;\n",
              "    }\n",
              "\n",
              "    [theme=dark] .colab-df-convert {\n",
              "      background-color: #3B4455;\n",
              "      fill: #D2E3FC;\n",
              "    }\n",
              "\n",
              "    [theme=dark] .colab-df-convert:hover {\n",
              "      background-color: #434B5C;\n",
              "      box-shadow: 0px 1px 3px 1px rgba(0, 0, 0, 0.15);\n",
              "      filter: drop-shadow(0px 1px 2px rgba(0, 0, 0, 0.3));\n",
              "      fill: #FFFFFF;\n",
              "    }\n",
              "  </style>\n",
              "\n",
              "      <script>\n",
              "        const buttonEl =\n",
              "          document.querySelector('#df-a494ccbf-1fc7-403b-8bd9-40f4fb9fe957 button.colab-df-convert');\n",
              "        buttonEl.style.display =\n",
              "          google.colab.kernel.accessAllowed ? 'block' : 'none';\n",
              "\n",
              "        async function convertToInteractive(key) {\n",
              "          const element = document.querySelector('#df-a494ccbf-1fc7-403b-8bd9-40f4fb9fe957');\n",
              "          const dataTable =\n",
              "            await google.colab.kernel.invokeFunction('convertToInteractive',\n",
              "                                                     [key], {});\n",
              "          if (!dataTable) return;\n",
              "\n",
              "          const docLinkHtml = 'Like what you see? Visit the ' +\n",
              "            '<a target=\"_blank\" href=https://colab.research.google.com/notebooks/data_table.ipynb>data table notebook</a>'\n",
              "            + ' to learn more about interactive tables.';\n",
              "          element.innerHTML = '';\n",
              "          dataTable['output_type'] = 'display_data';\n",
              "          await google.colab.output.renderOutput(dataTable, element);\n",
              "          const docLink = document.createElement('div');\n",
              "          docLink.innerHTML = docLinkHtml;\n",
              "          element.appendChild(docLink);\n",
              "        }\n",
              "      </script>\n",
              "    </div>\n",
              "  </div>\n",
              "  "
            ]
          },
          "metadata": {},
          "execution_count": 256
        }
      ]
    },
    {
      "cell_type": "markdown",
      "source": [
        "##**Discretized grading of used oil**\n",
        "Since the rates given in the dataset are ad-hoc, and therefore can not be depended on for analysis. Neither can one just apply some random formula for assigning scores - as, again, there is no way to validate the data. Therefore, the entire process cannot be automated, manual input is required (as described further)\n",
        "\n",
        "---\n",
        "\n",
        "###**Approach followed**\n",
        "1. Divide the datapoints into $n$ groups (here n is chosen to be 5), using mini-batch k-means algorithm. Each group defines a class of suppliers.\n",
        "2. Each class of suppliers has a mean distance value and quantity of used oil supplied which characterizes that class.\n",
        "3. This step is where manual intervention is required. One can observe the graph of the mean distance and quantity value on the graph plotted, and using the data of transportation costs (plus other overheads) and say, the amount of revenue that can be generated by that quantity of oil, one has to set the score for the mean datapoints (say, on a scale from $[0,100]$) \n",
        "4. We use the following score for each location:\n",
        "\n",
        "$$\n",
        "score_i = |\\alpha|.quantity_i + |\\beta|.\\frac{1}{distance_i}\n",
        "$$\n",
        "under the constraint $\\alpha^2 + \\beta^2 = max(category\\_score)$, category_score is the array of scores manually entered\n",
        "- The remaining task is to determine the values of $\\alpha$ and $\\beta$ \n",
        "- Rather than choosing the values randomly, we define the follwoing loss function:\n",
        "$$\n",
        "L = \\frac{1}{N}\\sum_i(score_i - category\\_score_i)^2\n",
        "$$\n",
        "where $category\\_score_i$ is the score set manually for the group (category) to which datapoint $i$ belongs\n",
        "---\n",
        "\n",
        "## **Intuition behind the approach:**\n",
        "  - The user does not have to calculate the score for all the 1000 or so datapoints, so this automates a huge part of the manual work.\n",
        "  - The loss function to be minimized is kind of the mean of squared error from the score given to a particular category.\n",
        "  - Minimizing the function, we choose those values of $\\alpha$ and $\\beta$ so that our score for the datapoint gets as close to the score assigned to that category - simultaneously, partially validating our score value.\n",
        "  ---"
      ],
      "metadata": {
        "id": "ZHsU-Livm1_C"
      }
    },
    {
      "cell_type": "markdown",
      "source": [
        "### **Visualizing the dataset**"
      ],
      "metadata": {
        "id": "fMe6bnnp-KNz"
      }
    },
    {
      "cell_type": "code",
      "source": [
        "df.plot.scatter(x = \"Distance\", y = \"True Quantity\")\n",
        "plt.ylabel(\"Quantity (normalized)\")\n",
        "plt.xlabel(\"Distance (normalized)\")\n",
        "plt.show()"
      ],
      "metadata": {
        "id": "c9ZWATYAdewY",
        "colab": {
          "base_uri": "https://localhost:8080/",
          "height": 281
        },
        "outputId": "edc4317d-7a5a-49c7-8270-d23cbc51ad74"
      },
      "execution_count": null,
      "outputs": [
        {
          "output_type": "display_data",
          "data": {
            "text/plain": [
              "<Figure size 432x288 with 1 Axes>"
            ],
            "image/png": "[encoded data removed]"
          },
          "metadata": {
            "needs_background": "light"
          }
        }
      ]
    },
    {
      "cell_type": "code",
      "source": [
        "'''Performing Clustering on the Dataset'''\n",
        "X = df[['True Quantity','Distance']].copy()\n",
        "kmeans = MiniBatchKMeans(n_clusters=5,random_state=0,batch_size=int(len(df.index)/2),max_iter=1000).fit_predict(X)\n",
        "\n",
        "'''Plotting the Clusters'''\n",
        "df.plot.scatter(x = \"Distance\", y = \"True Quantity\", c=kmeans, colormap = \"gist_rainbow\")\n",
        "plt.ylabel(\"Quantity (normalized)\")\n",
        "plt.xlabel(\"Distance (normalized)\")\n",
        "plt.show()"
      ],
      "metadata": {
        "colab": {
          "base_uri": "https://localhost:8080/",
          "height": 258
        },
        "id": "egNzeYeynrZg",
        "outputId": "c0856673-48f8-4ce1-b3d2-a3e73ca43f99"
      },
      "execution_count": null,
      "outputs": [
        {
          "output_type": "display_data",
          "data": {
            "text/plain": [
              "<Figure size 432x288 with 2 Axes>"
            ],
            "image/png": "[encoded data removed]"
          },
          "metadata": {
            "needs_background": "light"
          }
        }
      ]
    },
    {
      "cell_type": "markdown",
      "source": [
        "The locations have been divided into 5 categories. The categories have been ranked according to the average rate of the group."
      ],
      "metadata": {
        "id": "p7lMcrOHsVOt"
      }
    },
    {
      "cell_type": "code",
      "source": [
        "df.insert(3, \"Category\", kmeans, True)\n",
        "df_true.insert(3, \"Category\", kmeans, True)"
      ],
      "metadata": {
        "id": "KvHUGkbHxDAZ"
      },
      "execution_count": null,
      "outputs": []
    },
    {
      "cell_type": "code",
      "source": [
        "avg_df = df_true.groupby('Category').mean()\n",
        "avg_df.insert(3, \"Max Rate\", df_true.groupby('Category').max()['Rate per litre'].to_numpy(), True)\n",
        "avg_df.insert(3, \"Min Rate\", df_true.groupby('Category').min()['Rate per litre'].to_numpy(), True)\n",
        "avg_df"
      ],
      "metadata": {
        "colab": {
          "base_uri": "https://localhost:8080/",
          "height": 237
        },
        "id": "BPZLKXv4xJsp",
        "outputId": "b9e4e8f1-7e82-43de-8fdf-4031c256ee10"
      },
      "execution_count": null,
      "outputs": [
        {
          "output_type": "execute_result",
          "data": {
            "text/plain": [
              "          True Quantity     Distance  Rate per litre  Min Rate  Max Rate\n",
              "Category                                                                \n",
              "0           2038.219321    29.040018       24.019396      1.00     47.00\n",
              "1           2106.308275  1276.549977       23.639186      1.72     43.95\n",
              "2          14548.361757   233.142333       30.255556      1.59     41.10\n",
              "3          17203.913043  1504.569348       26.620870     19.43     55.90\n",
              "4          25044.706496   310.174862       25.330000      1.59     43.95"
            ],
            "text/html": [
              "\n",
              "  <div id=\"df-e25be86b-11e5-4bb2-a3fa-2f941d8c2a06\">\n",
              "    <div class=\"colab-df-container\">\n",
              "      <div>\n",
              "<style scoped>\n",
              "    .dataframe tbody tr th:only-of-type {\n",
              "        vertical-align: middle;\n",
              "    }\n",
              "\n",
              "    .dataframe tbody tr th {\n",
              "        vertical-align: top;\n",
              "    }\n",
              "\n",
              "    .dataframe thead th {\n",
              "        text-align: right;\n",
              "    }\n",
              "</style>\n",
              "<table border=\"1\" class=\"dataframe\">\n",
              "  <thead>\n",
              "    <tr style=\"text-align: right;\">\n",
              "      <th></th>\n",
              "      <th>True Quantity</th>\n",
              "      <th>Distance</th>\n",
              "      <th>Rate per litre</th>\n",
              "      <th>Min Rate</th>\n",
              "      <th>Max Rate</th>\n",
              "    </tr>\n",
              "    <tr>\n",
              "      <th>Category</th>\n",
              "      <th></th>\n",
              "      <th></th>\n",
              "      <th></th>\n",
              "      <th></th>\n",
              "      <th></th>\n",
              "    </tr>\n",
              "  </thead>\n",
              "  <tbody>\n",
              "    <tr>\n",
              "      <th>0</th>\n",
              "      <td>2038.219321</td>\n",
              "      <td>29.040018</td>\n",
              "      <td>24.019396</td>\n",
              "      <td>1.00</td>\n",
              "      <td>47.00</td>\n",
              "    </tr>\n",
              "    <tr>\n",
              "      <th>1</th>\n",
              "      <td>2106.308275</td>\n",
              "      <td>1276.549977</td>\n",
              "      <td>23.639186</td>\n",
              "      <td>1.72</td>\n",
              "      <td>43.95</td>\n",
              "    </tr>\n",
              "    <tr>\n",
              "      <th>2</th>\n",
              "      <td>14548.361757</td>\n",
              "      <td>233.142333</td>\n",
              "      <td>30.255556</td>\n",
              "      <td>1.59</td>\n",
              "      <td>41.10</td>\n",
              "    </tr>\n",
              "    <tr>\n",
              "      <th>3</th>\n",
              "      <td>17203.913043</td>\n",
              "      <td>1504.569348</td>\n",
              "      <td>26.620870</td>\n",
              "      <td>19.43</td>\n",
              "      <td>55.90</td>\n",
              "    </tr>\n",
              "    <tr>\n",
              "      <th>4</th>\n",
              "      <td>25044.706496</td>\n",
              "      <td>310.174862</td>\n",
              "      <td>25.330000</td>\n",
              "      <td>1.59</td>\n",
              "      <td>43.95</td>\n",
              "    </tr>\n",
              "  </tbody>\n",
              "</table>\n",
              "</div>\n",
              "      <button class=\"colab-df-convert\" onclick=\"convertToInteractive('df-e25be86b-11e5-4bb2-a3fa-2f941d8c2a06')\"\n",
              "              title=\"Convert this dataframe to an interactive table.\"\n",
              "              style=\"display:none;\">\n",
              "        \n",
              "  <svg xmlns=\"http://www.w3.org/2000/svg\" height=\"24px\"viewBox=\"0 0 24 24\"\n",
              "       width=\"24px\">\n",
              "    <path d=\"M0 0h24v24H0V0z\" fill=\"none\"/>\n",
              "    <path d=\"M18.56 5.44l.94 2.06.94-2.06 2.06-.94-2.06-.94-.94-2.06-.94 2.06-2.06.94zm-11 1L8.5 8.5l.94-2.06 2.06-.94-2.06-.94L8.5 2.5l-.94 2.06-2.06.94zm10 10l.94 2.06.94-2.06 2.06-.94-2.06-.94-.94-2.06-.94 2.06-2.06.94z\"/><path d=\"M17.41 7.96l-1.37-1.37c-.4-.4-.92-.59-1.43-.59-.52 0-1.04.2-1.43.59L10.3 9.45l-7.72 7.72c-.78.78-.78 2.05 0 2.83L4 21.41c.39.39.9.59 1.41.59.51 0 1.02-.2 1.41-.59l7.78-7.78 2.81-2.81c.8-.78.8-2.07 0-2.86zM5.41 20L4 18.59l7.72-7.72 1.47 1.35L5.41 20z\"/>\n",
              "  </svg>\n",
              "      </button>\n",
              "      \n",
              "  <style>\n",
              "    .colab-df-container {\n",
              "      display:flex;\n",
              "      flex-wrap:wrap;\n",
              "      gap: 12px;\n",
              "    }\n",
              "\n",
              "    .colab-df-convert {\n",
              "      background-color: #E8F0FE;\n",
              "      border: none;\n",
              "      border-radius: 50%;\n",
              "      cursor: pointer;\n",
              "      display: none;\n",
              "      fill: #1967D2;\n",
              "      height: 32px;\n",
              "      padding: 0 0 0 0;\n",
              "      width: 32px;\n",
              "    }\n",
              "\n",
              "    .colab-df-convert:hover {\n",
              "      background-color: #E2EBFA;\n",
              "      box-shadow: 0px 1px 2px rgba(60, 64, 67, 0.3), 0px 1px 3px 1px rgba(60, 64, 67, 0.15);\n",
              "      fill: #174EA6;\n",
              "    }\n",
              "\n",
              "    [theme=dark] .colab-df-convert {\n",
              "      background-color: #3B4455;\n",
              "      fill: #D2E3FC;\n",
              "    }\n",
              "\n",
              "    [theme=dark] .colab-df-convert:hover {\n",
              "      background-color: #434B5C;\n",
              "      box-shadow: 0px 1px 3px 1px rgba(0, 0, 0, 0.15);\n",
              "      filter: drop-shadow(0px 1px 2px rgba(0, 0, 0, 0.3));\n",
              "      fill: #FFFFFF;\n",
              "    }\n",
              "  </style>\n",
              "\n",
              "      <script>\n",
              "        const buttonEl =\n",
              "          document.querySelector('#df-e25be86b-11e5-4bb2-a3fa-2f941d8c2a06 button.colab-df-convert');\n",
              "        buttonEl.style.display =\n",
              "          google.colab.kernel.accessAllowed ? 'block' : 'none';\n",
              "\n",
              "        async function convertToInteractive(key) {\n",
              "          const element = document.querySelector('#df-e25be86b-11e5-4bb2-a3fa-2f941d8c2a06');\n",
              "          const dataTable =\n",
              "            await google.colab.kernel.invokeFunction('convertToInteractive',\n",
              "                                                     [key], {});\n",
              "          if (!dataTable) return;\n",
              "\n",
              "          const docLinkHtml = 'Like what you see? Visit the ' +\n",
              "            '<a target=\"_blank\" href=https://colab.research.google.com/notebooks/data_table.ipynb>data table notebook</a>'\n",
              "            + ' to learn more about interactive tables.';\n",
              "          element.innerHTML = '';\n",
              "          dataTable['output_type'] = 'display_data';\n",
              "          await google.colab.output.renderOutput(dataTable, element);\n",
              "          const docLink = document.createElement('div');\n",
              "          docLink.innerHTML = docLinkHtml;\n",
              "          element.appendChild(docLink);\n",
              "        }\n",
              "      </script>\n",
              "    </div>\n",
              "  </div>\n",
              "  "
            ]
          },
          "metadata": {},
          "execution_count": 260
        }
      ]
    },
    {
      "cell_type": "markdown",
      "source": [
        "### **Plotting the mean points for each category**"
      ],
      "metadata": {
        "id": "l1q6Dstc-t3T"
      }
    },
    {
      "cell_type": "code",
      "source": [
        "avg_df.plot.scatter(y = \"True Quantity\", x=\"Distance\")\n",
        "plt.ylabel(\"Quantity (Litres)\")\n",
        "plt.xlabel(\"Distance (Km)\")\n",
        "plt.show()"
      ],
      "metadata": {
        "colab": {
          "base_uri": "https://localhost:8080/",
          "height": 279
        },
        "id": "3cMLlpv50tQE",
        "outputId": "552ca92f-58fb-4e0b-960a-d7d740de7acc"
      },
      "execution_count": null,
      "outputs": [
        {
          "output_type": "display_data",
          "data": {
            "text/plain": [
              "<Figure size 432x288 with 1 Axes>"
            ],
            "image/png": "[encoded data removed]"
          },
          "metadata": {
            "needs_background": "light"
          }
        }
      ]
    },
    {
      "cell_type": "markdown",
      "source": [
        "##**Continuous grading of used oil**"
      ],
      "metadata": {
        "id": "sCQWFVWVTFz4"
      }
    },
    {
      "cell_type": "code",
      "source": [
        "'''ENTER THE SCORES CORRESPONDING TO EACH CATEGORY BELOW'''\n",
        "'''THE INDICES OF THE ARRAYS ARE THE CATEGORIES - MATCH THOSE WITH THE VALUES IN THE TABLE GIVEN ABOVE'''\n",
        "score_manual = [0]*5;\n",
        "score_manual[4] = 100\n",
        "score_manual[2] = 90\n",
        "score_manual[0] = 50\n",
        "score_manual[3] = 10\n",
        "score_manual[1] = 1\n",
        "\n",
        "mean_distance = (1/df_true['Distance']).mean()\n",
        "mean_quantity = df_true['True Quantity'].mean()\n",
        "def score(alpha,beta, distance, quantity, category):\n",
        "  return (abs(alpha)*quantity/mean_quantity + abs(beta)*(1/(distance*mean_distance)) - score_manual[category])**2\n",
        "\n",
        "def const(s):\n",
        "  return s[0]*s[0] + s[1]*s[1] - max(score_manual)\n",
        "\n",
        "'''TRUE (NOT NORMALIZED) VALUES ARE USED IN CALCULATIONS'''\n",
        "def lossfunction(parameters):\n",
        "  alpha,beta = parameters\n",
        "  sum = 0\n",
        "  for i in range(5):\n",
        "    temp = df_true[df_true['Category'] == i] \n",
        "    for j in range(len(temp.index)):\n",
        "      sum+=score(alpha,beta, temp['Distance'].iloc[j], temp['True Quantity'].iloc[j],i)\n",
        "  return sum/len(df.index)\n",
        "\n",
        "print(10/1276/mean_distance) # To see the magnitude of values of first two terms in loss function \n",
        "print(1000/mean_quantity) # Magnitudes shouldn't be too far apart"
      ],
      "metadata": {
        "colab": {
          "base_uri": "https://localhost:8080/"
        },
        "id": "n31SdcddRxTR",
        "outputId": "473f4f05-efc9-47b7-cf3f-70c118be26ae"
      },
      "execution_count": null,
      "outputs": [
        {
          "output_type": "stream",
          "name": "stdout",
          "text": [
            "0.07397718729438393\n",
            "0.28531347588108913\n"
          ]
        }
      ]
    },
    {
      "cell_type": "markdown",
      "source": [
        "###**Values of parameters**"
      ],
      "metadata": {
        "id": "3YLrlwli_OEJ"
      }
    },
    {
      "cell_type": "code",
      "source": [
        "first_guess = [0.5, 0.5]\n",
        "constarnt = {'type':'eq', 'fun': const}\n",
        "result = optimize.minimize(lossfunction, first_guess, constraints=constarnt) # Minimizing the Loss function\n",
        "print(\"alpha is\", abs(result.x[0]))\n",
        "print(\"beta is\", abs(result.x[1]))"
      ],
      "metadata": {
        "colab": {
          "base_uri": "https://localhost:8080/"
        },
        "id": "Vzog1r2qkxQC",
        "outputId": "64edb887-6e88-4a33-e504-9ae4b1e2dc50"
      },
      "execution_count": null,
      "outputs": [
        {
          "output_type": "stream",
          "name": "stdout",
          "text": [
            "alpha is 7.931508697015463\n",
            "beta is 6.090252030023195\n"
          ]
        }
      ]
    }
  ]
}